{
 "cells": [
  {
   "cell_type": "code",
   "execution_count": 51,
   "metadata": {},
   "outputs": [
    {
     "name": "stdout",
     "output_type": "stream",
     "text": [
      " C 드라이브의 볼륨에는 이름이 없습니다.\n",
      " 볼륨 일련 번호: 68ED-8EF4\n",
      "\n",
      " c:\\doit 디렉터리\n",
      "\n",
      "2025-04-02  오후 04:23    <DIR>          .\n",
      "2025-04-02  오후 03:03            28,481 5-5 내장함수.ipynb\n",
      "2025-04-02  오후 04:50             8,211 56 표준 라이브러리.ipynb\n",
      "2025-04-02  오후 02:31             3,397 5장 두번째.ipynb\n",
      "2025-04-02  오후 12:11                34 echo.py\n",
      "2025-04-02  오후 12:09    <DIR>          game\n",
      "2025-04-02  오후 12:08    <DIR>          graphic\n",
      "2025-04-01  오후 04:38                75 mod1.py\n",
      "2025-04-02  오후 12:12                38 render.py\n",
      "2025-04-02  오후 03:02                 0 test\n",
      "2025-04-01  오후 04:32    <DIR>          __pycache__\n",
      "               7개 파일              40,236 바이트\n",
      "               4개 디렉터리  185,665,363,968 바이트 남음\n",
      "\n"
     ]
    },
    {
     "name": "stderr",
     "output_type": "stream",
     "text": [
      "<>:2: SyntaxWarning: invalid escape sequence '\\d'\n",
      "<>:2: SyntaxWarning: invalid escape sequence '\\d'\n",
      "C:\\Users\\Cl\\AppData\\Local\\Temp\\ipykernel_18948\\1004636747.py:2: SyntaxWarning: invalid escape sequence '\\d'\n",
      "  os.chdir(\"c:\\doit\")\n"
     ]
    }
   ],
   "source": [
    "import os\n",
    "os.chdir(\"c:\\doit\")\n",
    "os.system(\"dir\")\n",
    "f=os.popen(\"dir\")\n",
    "print(f.read())"
   ]
  },
  {
   "cell_type": "code",
   "execution_count": 52,
   "metadata": {},
   "outputs": [
    {
     "data": {
      "text/plain": [
       "['c:/doit\\\\echo.py', 'c:/doit\\\\mod1.py', 'c:/doit\\\\render.py']"
      ]
     },
     "execution_count": 52,
     "metadata": {},
     "output_type": "execute_result"
    }
   ],
   "source": [
    "import glob\n",
    "glob.glob(\"c:/doit/*py\")"
   ]
  },
  {
   "cell_type": "code",
   "execution_count": 53,
   "metadata": {},
   "outputs": [
    {
     "name": "stdout",
     "output_type": "stream",
     "text": [
      "2025/04/03 15:24:06\n"
     ]
    }
   ],
   "source": [
    "import time\n",
    "a=time.strftime('%Y', time.localtime(time.time()))\n",
    "b=time.strftime('%m', time.localtime(time.time()))\n",
    "c=time.strftime('%d', time.localtime(time.time()))\n",
    "d=time.strftime('%X', time.localtime(time.time()))\n",
    "print(a+\"/\"+b+\"/\"+c+\" \"+d)"
   ]
  },
  {
   "cell_type": "code",
   "execution_count": 54,
   "metadata": {},
   "outputs": [
    {
     "name": "stdout",
     "output_type": "stream",
     "text": [
      "[1, 4, 11, 16, 27, 41]\n"
     ]
    }
   ],
   "source": [
    "import random\n",
    "def random_pop(data):\n",
    "    number=random.choice(data)\n",
    "    data.remove(number)\n",
    "    return number\n",
    "\n",
    "numbers=list(range(1,46))\n",
    "result=[]\n",
    "\n",
    "for _ in range(6):\n",
    "    result.append(random_pop(numbers))\n",
    "\n",
    "print(sorted(result))"
   ]
  },
  {
   "cell_type": "code",
   "execution_count": 55,
   "metadata": {},
   "outputs": [
    {
     "data": {
      "text/plain": [
       "1051"
      ]
     },
     "execution_count": 55,
     "metadata": {},
     "output_type": "execute_result"
    }
   ],
   "source": [
    "import datetime\n",
    "day1=datetime.date(1995,11,20)\n",
    "day2=datetime.date(1998,10,6)\n",
    "diff=day2-day1\n",
    "diff.days"
   ]
  },
  {
   "cell_type": "code",
   "execution_count": 56,
   "metadata": {},
   "outputs": [
    {
     "name": "stdout",
     "output_type": "stream",
     "text": [
      "[('김예지', 13.31), ('진정웅', 13.39), ('박상현', 14.16), ('김영순', 14.81), ('한지영', 14.83), ('오지아', 15.13), ('윤서현', 15.25), ('박예원', 15.34), ('김시우', 15.48), ('송순자', 15.57), ('주병철', 15.67), ('문재호', 16.39), ('김혜진', 16.63), ('김영철', 16.7), ('김옥순', 16.71), ('윤지은', 16.93), ('최보람', 17.14), ('황민지', 17.65), ('이성호', 17.7), ('배숙자', 17.9)]\n"
     ]
    }
   ],
   "source": [
    "from operator import itemgetter\n",
    "\n",
    "data=[('윤서현', 15.25),\n",
    "       ('김예지', 13.31),\n",
    "       ('박예원', 15.34),\n",
    "       ('송순자',15.57),\n",
    "       ('김시우', 15.48),\n",
    "       ('배숙자', 17.9),\n",
    "       ('진정웅', 13.39),\n",
    "       ('김혜진', 16.63),\n",
    "       ('최보람', 17.14),\n",
    "       ('한지영',14.83),\n",
    "       ('이성호', 17.7),\n",
    "       ('김옥순',16.71),\n",
    "       ('황민지', 17.65),\n",
    "       ('김영철', 16.7),\n",
    "       ('주병철', 15.67),\n",
    "       ('박상현', 14.16),\n",
    "       ('김영순', 14.81),\n",
    "       ('오지아', 15.13),\n",
    "       ('윤지은', 16.93),\n",
    "       ('문재호', 16.39)]\n",
    "\n",
    "result=sorted(data, key=itemgetter(1))\n",
    "print(result)"
   ]
  },
  {
   "cell_type": "code",
   "execution_count": 57,
   "metadata": {},
   "outputs": [
    {
     "data": {
      "text/plain": [
       "[('나지혜', '성성민'),\n",
       " ('나지혜', '윤지현'),\n",
       " ('나지혜', '김정숙'),\n",
       " ('성성민', '나지혜'),\n",
       " ('성성민', '윤지현'),\n",
       " ('성성민', '김정숙'),\n",
       " ('윤지현', '나지혜'),\n",
       " ('윤지현', '성성민'),\n",
       " ('윤지현', '김정숙'),\n",
       " ('김정숙', '나지혜'),\n",
       " ('김정숙', '성성민'),\n",
       " ('김정숙', '윤지현')]"
      ]
     },
     "execution_count": 57,
     "metadata": {},
     "output_type": "execute_result"
    }
   ],
   "source": [
    "import itertools\n",
    "list(itertools.permutations(['나지혜', '성성민', '윤지현', '김정숙'],2))"
   ]
  },
  {
   "cell_type": "code",
   "execution_count": 58,
   "metadata": {},
   "outputs": [
    {
     "data": {
      "text/plain": [
       "[('a', 'b', 'c', 'd'),\n",
       " ('a', 'b', 'd', 'c'),\n",
       " ('a', 'c', 'b', 'd'),\n",
       " ('a', 'c', 'd', 'b'),\n",
       " ('a', 'd', 'b', 'c'),\n",
       " ('a', 'd', 'c', 'b'),\n",
       " ('b', 'a', 'c', 'd'),\n",
       " ('b', 'a', 'd', 'c'),\n",
       " ('b', 'c', 'a', 'd'),\n",
       " ('b', 'c', 'd', 'a'),\n",
       " ('b', 'd', 'a', 'c'),\n",
       " ('b', 'd', 'c', 'a'),\n",
       " ('c', 'a', 'b', 'd'),\n",
       " ('c', 'a', 'd', 'b'),\n",
       " ('c', 'b', 'a', 'd'),\n",
       " ('c', 'b', 'd', 'a'),\n",
       " ('c', 'd', 'a', 'b'),\n",
       " ('c', 'd', 'b', 'a'),\n",
       " ('d', 'a', 'b', 'c'),\n",
       " ('d', 'a', 'c', 'b'),\n",
       " ('d', 'b', 'a', 'c'),\n",
       " ('d', 'b', 'c', 'a'),\n",
       " ('d', 'c', 'a', 'b'),\n",
       " ('d', 'c', 'b', 'a')]"
      ]
     },
     "execution_count": 58,
     "metadata": {},
     "output_type": "execute_result"
    }
   ],
   "source": [
    "import itertools\n",
    "list(itertools.permutations(['a','b','c','d'],4))"
   ]
  },
  {
   "cell_type": "code",
   "execution_count": 59,
   "metadata": {},
   "outputs": [
    {
     "name": "stdout",
     "output_type": "stream",
     "text": [
      "[('강춘자', '청소'), ('이예준', '빨래'), ('김승현', '설거지'), ('김진호', '휴식'), ('김현주', '휴식')]\n"
     ]
    }
   ],
   "source": [
    "import itertools\n",
    "\n",
    "person=['김승현', '김진호', '강춘자', '이예준', '김현주']\n",
    "work=['청소', '빨래', '설거지']\n",
    "\n",
    "person = random.sample(person, len(person))\n",
    "\n",
    "result=itertools.zip_longest(person, work, fillvalue='휴식')\n",
    "print(list(result))"
   ]
  },
  {
   "cell_type": "code",
   "execution_count": 60,
   "metadata": {},
   "outputs": [
    {
     "name": "stdout",
     "output_type": "stream",
     "text": [
      "선의 길이:40\n",
      "타일 개수:10\n"
     ]
    }
   ],
   "source": [
    "import math\n",
    "\n",
    "width=200\n",
    "height=80\n",
    "\n",
    "square_size=math.gcd(200,80)\n",
    "print(\"선의 길이:{}\".format(square_size))\n",
    "\n",
    "width_count=width/square_size\n",
    "height_count=height/square_size\n",
    "\n",
    "print(\"타일 개수:{}\".format(int(width_count*height_count)))"
   ]
  }
 ],
 "metadata": {
  "kernelspec": {
   "display_name": "Python 3",
   "language": "python",
   "name": "python3"
  },
  "language_info": {
   "codemirror_mode": {
    "name": "ipython",
    "version": 3
   },
   "file_extension": ".py",
   "mimetype": "text/x-python",
   "name": "python",
   "nbconvert_exporter": "python",
   "pygments_lexer": "ipython3",
   "version": "3.13.2"
  }
 },
 "nbformat": 4,
 "nbformat_minor": 2
}
