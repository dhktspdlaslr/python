#숫자 바로 대입
"I eat %d apples." %3